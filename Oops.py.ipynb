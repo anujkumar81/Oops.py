{
 "cells": [
  {
   "cell_type": "code",
   "execution_count": 39,
   "id": "1dcdae5f-a5dc-44ee-8003-2ac3631e1ea9",
   "metadata": {},
   "outputs": [],
   "source": [
    "class anuj:\n",
    "    def __init__(self , Name , Phone_number , Email_id , Address):\n",
    "        self.Name = Name\n",
    "        self.Phone_number = Phone_number\n",
    "        self.Email_id = Email_id\n",
    "        self.Address = Address\n",
    "    def return_Details(self):\n",
    "        return self.Name, self.Phone_number, self.Email_id, self.Address"
   ]
  },
  {
   "cell_type": "code",
   "execution_count": 19,
   "id": "ead39adf-881b-4b07-9e74-f3c2e016ad0c",
   "metadata": {},
   "outputs": [],
   "source": [
    "anuj = anuj(\"Anuj Gupta\" , 8227803981 , \"anujguptashivpur@gamil.com\" , \"Sonpur Bihar India\")"
   ]
  },
  {
   "cell_type": "code",
   "execution_count": 20,
   "id": "4d734c88-020e-434d-8ed2-cf1ef111b840",
   "metadata": {},
   "outputs": [
    {
     "data": {
      "text/plain": [
       "'Anuj Gupta'"
      ]
     },
     "execution_count": 20,
     "metadata": {},
     "output_type": "execute_result"
    }
   ],
   "source": [
    "anuj.Name"
   ]
  },
  {
   "cell_type": "code",
   "execution_count": 23,
   "id": "24c30e39-2209-4ff3-889b-9f24563cc3aa",
   "metadata": {},
   "outputs": [
    {
     "data": {
      "text/plain": [
       "('Anuj Gupta', 8227803981, 'anujguptashivpur@gamil.com', 'Sonpur Bihar India')"
      ]
     },
     "execution_count": 23,
     "metadata": {},
     "output_type": "execute_result"
    }
   ],
   "source": [
    "anuj.return_Details()"
   ]
  },
  {
   "cell_type": "code",
   "execution_count": 25,
   "id": "6413f7e2-b05d-474d-970c-51284c5f18b2",
   "metadata": {},
   "outputs": [
    {
     "data": {
      "text/plain": [
       "'anujguptashivpur@gamil.com'"
      ]
     },
     "execution_count": 25,
     "metadata": {},
     "output_type": "execute_result"
    }
   ],
   "source": [
    "anuj.Email_id"
   ]
  },
  {
   "cell_type": "code",
   "execution_count": 29,
   "id": "993b09d1-789b-43f5-8ef2-8d536394f861",
   "metadata": {},
   "outputs": [],
   "source": [
    "prasar = anuj(\"Prasar abibhore\" , 7634969610 , \"bibhore@gmail.com\" , \"Banka Bihar India\")"
   ]
  },
  {
   "cell_type": "code",
   "execution_count": 30,
   "id": "acdc2883-c79f-416d-8671-9c80ef081e4b",
   "metadata": {},
   "outputs": [
    {
     "data": {
      "text/plain": [
       "7634969610"
      ]
     },
     "execution_count": 30,
     "metadata": {},
     "output_type": "execute_result"
    }
   ],
   "source": [
    "prasar.Phone_number"
   ]
  },
  {
   "cell_type": "code",
   "execution_count": 34,
   "id": "b10054a2-9223-4dd7-bc4a-8ab544d00523",
   "metadata": {},
   "outputs": [],
   "source": [
    "sanni = anuj(\"Sanni Kumar\" , 9508570243 , 'sanni@gmail.com' , \"Munger Bihar India\")"
   ]
  },
  {
   "cell_type": "code",
   "execution_count": 35,
   "id": "c4977544-9c0f-4a01-8ef8-116c43081a8f",
   "metadata": {},
   "outputs": [
    {
     "data": {
      "text/plain": [
       "'Munger Bihar India'"
      ]
     },
     "execution_count": 35,
     "metadata": {},
     "output_type": "execute_result"
    }
   ],
   "source": [
    "sanni.Address"
   ]
  },
  {
   "cell_type": "code",
   "execution_count": 37,
   "id": "49013d4f-0601-488f-8e95-5ab41ae967b1",
   "metadata": {},
   "outputs": [],
   "source": [
    "vijendra = anuj(\"Vijendra Kumar\", 9798905305, \"vijendrakumarshivpur@gmail.com\", \"Sonpur Bihar India\")"
   ]
  },
  {
   "cell_type": "code",
   "execution_count": 44,
   "id": "45517e4e-90e2-4284-b007-7b6274050489",
   "metadata": {},
   "outputs": [
    {
     "data": {
      "text/plain": [
       "'vijendrakumarshivpur@gmail.com'"
      ]
     },
     "execution_count": 44,
     "metadata": {},
     "output_type": "execute_result"
    }
   ],
   "source": [
    "vijendra.Email_id"
   ]
  },
  {
   "cell_type": "code",
   "execution_count": null,
   "id": "fa4637ad-288b-4e97-b3f0-813208f1261a",
   "metadata": {},
   "outputs": [],
   "source": []
  }
 ],
 "metadata": {
  "kernelspec": {
   "display_name": "Python 3 (ipykernel)",
   "language": "python",
   "name": "python3"
  },
  "language_info": {
   "codemirror_mode": {
    "name": "ipython",
    "version": 3
   },
   "file_extension": ".py",
   "mimetype": "text/x-python",
   "name": "python",
   "nbconvert_exporter": "python",
   "pygments_lexer": "ipython3",
   "version": "3.10.8"
  }
 },
 "nbformat": 4,
 "nbformat_minor": 5
}
